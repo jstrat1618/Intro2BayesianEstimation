{
 "cells": [
  {
   "cell_type": "markdown",
   "metadata": {},
   "source": [
    "# Overview"
   ]
  },
  {
   "cell_type": "markdown",
   "metadata": {},
   "source": [
    "I.) Objectives   \n",
    "\n",
    "II.) Introduction to Bayes Theorem   \n",
    "* Derivation of Bayes Theorem    \n",
    "* Example Problem\n",
    "\n",
    "III.) Deriving the Posterior Distribution    \n",
    "* Bayes Factor\n",
    "* Interval Estimation\n",
    "\n",
    "\n",
    "IV.) Estimating a Binomial Proportion   \n",
    "* Bernoulli Trials    \n",
    "* Inference on a coin\n",
    "            1.) Notation and Assumptions    \n",
    "            2.) Define the prior    \n",
    "            3.) Generate the data    \n",
    "            4.) Define and plot the Likelihood    \n",
    "            5.) Find and plot the Posterior\n",
    "* Summary of a Frequentist Approach            \n",
    "            \n",
    "V.) Introduction to the German Tank Problem    \n",
    "* Background    \n",
    "* Discrete Uniform Distribution    \n",
    "* Notation    \n",
    "* Sampling Algorithims    \n",
    "* Example with K = 4     \n",
    "* Example with K = 1\n",
    "* Summary of Frequentist Approach\n",
    "  \n",
    "VI.) Summary    \n",
    "* Advantages of Using a Bayesian Approach\n",
    "* Disadvantages of Using a Bayesian Approach\n",
    "\n",
    "VII.) References    \n",
    "\n",
    "VIII.) Further Reading    \n",
    "            \n",
    "            "
   ]
  },
  {
   "cell_type": "markdown",
   "metadata": {},
   "source": [
    "# Objectives\n",
    "* Derieve Bayes Theorem\n",
    "* Familiarize yourself with terminology such as informative/uninformative prior, conjugate prior and more\n",
    "* Show how a binomial proportion is estimated using a Beta prior and a Bernoulli Likelihood\n",
    "* Familiarize the reader with the use of different priors\n",
    "* Familiarize the reader with common sampling algorithims\n",
    "* Be able to discuss the general advantages and disadvantages of a Bayesian approach    \n",
    "* Give the reader resources to learn more"
   ]
  },
  {
   "cell_type": "markdown",
   "metadata": {},
   "source": [
    "## Derivation of Bayes Theorem\n",
    "We can easily derieve Bayes Theorem from the defintion of conditional probability."
   ]
  },
  {
   "cell_type": "markdown",
   "metadata": {},
   "source": [
    "Defintion of Conditional Probability: Let $A$ and $B$ be events in the sample space and $P(B)>0$. The conditional probability of event $A$ given event $B$, denoted $P(A|B)$ is defined as\n",
    "\n",
    "$$\n",
    "P(A|B) = \\frac{P(A \\cap B )}{P(B)}.\n",
    "$$"
   ]
  },
  {
   "cell_type": "markdown",
   "metadata": {},
   "source": [
    "Similarily, given that $P(A)>0$ the conditional probability of $B$ given $A$ is given as \n",
    "$$\n",
    "P(B|A) = \\frac{P(B \\cap A)}{P(A)}.\n",
    "$$\n",
    "\n",
    "Using this we can conclude that the $P(B \\cap A)$ is given by\n",
    "$$\n",
    " P(B \\cap A)= P(A) P(B|A) = P(B) P(A|B).\n",
    "$$"
   ]
  },
  {
   "cell_type": "markdown",
   "metadata": {
    "collapsed": true
   },
   "source": [
    "Now we can express the $P(B|A)$ as,\n",
    "$$\n",
    "P(B|A) = \\frac{P(B) P(A|B)}{P(A)}.\n",
    "$$"
   ]
  },
  {
   "cell_type": "markdown",
   "metadata": {},
   "source": [
    "If B is partitioned into the events $B_1, B_2, \\ldots B_m$, then we can write $P(A)$ as\n",
    "$$\n",
    "P(A) = \\sum_{i=1}^m P(B_i)P(A|B_i).\n",
    "$$"
   ]
  },
  {
   "cell_type": "markdown",
   "metadata": {},
   "source": [
    "Therefore, for each $j = 1,2, \\ldots$,m the $P(B_j|A)$ is given by\n",
    "$$\n",
    "P(B_j|A) = \\frac{P(B_j) P(A|B_j)}{\\sum_{i=1}^m P(B_i)P(A|B_i)}. \\hspace{6mm} \\mbox{(1)}\n",
    "$$\n"
   ]
  },
  {
   "cell_type": "markdown",
   "metadata": {},
   "source": [
    "See sources [2] and [3] for more detail."
   ]
  },
  {
   "cell_type": "markdown",
   "metadata": {},
   "source": [
    "## Example Problem\n",
    "Suppose a disease afflicts $1$ in $1,000$ individuals in a population. A test has been developed for this disease. An idividual with the disease will test positive for the disease 99% of the time, and an individual without the disease will test postive 1% of time. \n",
    "\n",
    "Suppose an individual is selected at random and tested for the disease. The test shows a positive result. What is the probability that this individual actually has the disease?"
   ]
  },
  {
   "cell_type": "markdown",
   "metadata": {},
   "source": [
    "Let D be the event that the selected person has the disease.    \n",
    "Let A be the event that the selected person tests positive for the disease.\n",
    "\n",
    "From the the problem we can deduce that $P(D) = 0.001$, $P(A|D) = 0.99$, and $P(A|D^C) = 0.01$.    \n",
    "Since $P(D) = 0.001)$ we can conclude that $P(D^C) = 1-P(D) = 0.999)$. \n",
    "\n",
    "Using equation (1) we can conclude  \n",
    "$$\n",
    "\\begin{align}\n",
    "P(D|A) &= \\frac{P(D)P(A|D)}{P(D)P(A|D) + P(D^C)P(A|D^C)}\\\\\n",
    "\\\\\n",
    "&= \\frac{0.001*0.99}{0.001*0.99 + 0.999*0.01}\\\\\n",
    "\\\\\n",
    "&\\approx 0.0902\n",
    "\\end{align}\n",
    "$$"
   ]
  },
  {
   "cell_type": "markdown",
   "metadata": {},
   "source": [
    "# Deriving the Posterior Distribution\n",
    "Estimation in the Bayesian context differs from the Frequentist context in that the parameter of interest is treated as a random variable. Bayes theorem allows us to combine two functions the prior and the Likelihood to obtain the posterior distribution. \n",
    "\n",
    "## Notation\n",
    "* $\\theta$- the parameter we are interested in estimating    \n",
    "* $\\pi(\\theta)$- the prior on $\\theta$     \n",
    "* $X \\sim f(x|\\theta)$- $X$ is distrubuted according to $f(x|\\theta)$     \n",
    "* $\\boldsymbol{X}=(X_1, X_2, \\ldots, X_n)$- a random sample of data   \n",
    "* $\\pi(\\theta|\\boldsymbol{x})$- the posterior distribution given we have observed the sample $\\boldsymbol{X}=\\boldsymbol{x}$\n",
    "\n",
    "## The prior\n",
    "There are different types of priors. Here is a list of useful terminology often used when describing priors.\n",
    "\n",
    "* Hyperparameters- the parameters of the prior distribution    \n",
    "* Informative prior- expresses a certain belief about the parameter    \n",
    "* Uninformative prior- expresses a vague or general belief about the parameter    \n",
    "* Improper prior- a prior that does not integrate or sum to $1$         \n",
    "* Conjugate prior- when for a given likelihood the prior distribution and the posterior distribution have the same functional form the prior distribution is called a conjugate prior for the given likelihood\n",
    "\n",
    "See [6] for more detail regarding each of these.\n",
    "\n",
    "\n",
    "\n",
    "## Define the Likelihood\n",
    "Denote the random sample of size $n$ as $\\boldsymbol{X}=(X_1, X_2, \\ldots, X_n)$. Let $f(\\boldsymbol{x}| \\theta)$ denote the joint pdf [probability density function] or pmf [probability mass function] of the sample $\\boldsymbol{X}=\\boldsymbol{x}$, the function of $\\theta$ defined by\n",
    "$$\n",
    "L(\\theta| \\boldsymbol{x}) = \\prod_{i = 1}^n f(x_i | \\theta).\n",
    "$$\n",
    "is called the likelihood function.\n",
    "\n",
    "See Casella and Berger [5] for more detail regarding the definition of the likelihood."
   ]
  },
  {
   "cell_type": "markdown",
   "metadata": {},
   "source": [
    "## Deriving the Posterior Distribution\n",
    "The posterior distrubtion is the function of $\\theta$ proportional to\n",
    "$$\n",
    "\\pi (\\theta|\\boldsymbol{x}) \\propto \\pi(\\theta) L(\\theta|\\boldsymbol{x}).\n",
    "$$\n"
   ]
  },
  {
   "cell_type": "markdown",
   "metadata": {},
   "source": [
    "The normalizing constant can be found by integrating or summing over $\\pi(\\theta) L(\\theta|\\boldsymbol{x})$ with respect to $\\theta$. Thus, in general we can write the posterior distribution for a single parameter $\\theta$ given we have observed the sample $\\boldsymbol{X}=\\boldsymbol{x}$ as\n",
    "\n",
    "$$\n",
    "\\pi (\\theta|\\boldsymbol{x}) = \n",
    "\\frac{\\pi(\\theta) L(\\theta|\\boldsymbol{x})}{\\int \\pi(\\theta) L(\\theta|\\boldsymbol{x}) d \\theta}.\n",
    "\\hspace{6mm} \\mbox{(2)}\n",
    "$$\n",
    "\n",
    "See Doing Bayesian Data Analysis by John Krushke [8] for a similar derivation."
   ]
  },
  {
   "cell_type": "markdown",
   "metadata": {},
   "source": [
    "### Bayes Factor\n",
    "John Krushke [8] describes the term $\\pi(\\boldsymbol{x}| M) =\\int \\pi(\\theta) L(\\theta|\\boldsymbol{x}) d \\theta$ as the \"evidence\" for the model $M$ given the data $\\boldsymbol{x}$. Here $M$ is our model, the mathematical represenation of our problem.\n",
    "\n",
    "Given two models $M_1$ and $M_2$ the ratio\n",
    "\n",
    "$$\n",
    "\\frac{\\pi(\\boldsymbol{x}| M_1)}{\\pi(\\boldsymbol{x}| M_2)}\n",
    "$$\n",
    "is called Bayes Factor."
   ]
  },
  {
   "cell_type": "markdown",
   "metadata": {},
   "source": [
    "### Interval Estimation\n",
    "Since posterior distrubtions are probability distributions you can employ a more probabilistic interpretation. For example, for real numbers $a,b$ you can describe the $P(a \\leq \\theta \\leq b)$ whereas in the frequentist setting this does not make sense because the parameter of interest is treated as a fixed constant.\n",
    "\n",
    "Some important terms to be familiar with:\n",
    "* $(1-\\alpha)\\%$ Credible set- an interval such that that the probability that $\\theta$ in the domain of posterior probability such that the probability that $\\theta$ is in the interval is equal to $1-\\alpha$. These are not unique.\n",
    "\n",
    "* Highest Posterior Density (HPD) Interval-  the narrowest region of the posterior distribution with probability coverage equal to $1-\\alpha$.\n",
    "\n",
    "See Gelman et al. [6] for more detail regarding credible sets and HPD's."
   ]
  },
  {
   "cell_type": "markdown",
   "metadata": {},
   "source": [
    "# Bernoulli Trials\n",
    "A Bernoulli trial is trial in which there is exactly two possible outcomes, \"success\" and \"failure\". Defining the random variable, $X$ as $1$ is the Bernoulli trial is a \"success\" and $0$ if the Bernoulli trial is a \"failure\", the probability mass function (pmf) of a Bernoulli random variable is given by \n",
    "\n",
    "$$\n",
    "f(x|\\theta) = \n",
    "\\begin{cases}\n",
    "\\theta^x (1-\\theta)^{1-x} \\hspace{5mm} & \\mbox{for} \\hspace{3mm} x \\in \\{0,1\\}\n",
    "\\hspace{6mm} \\mbox{(3)}\\\\\n",
    "0 & \\mbox{otherwise}.\\\\\n",
    "\\end{cases}\n",
    "$$"
   ]
  },
  {
   "cell_type": "markdown",
   "metadata": {},
   "source": [
    "Alternatively, $f(x|\\theta)$ can also be expressed as\n",
    "$$\n",
    "f(x|\\theta) = \n",
    "\\begin{cases} \n",
    "      \\theta & \\mbox{ for $x = 1$} \\\\\n",
    "      1 - \\theta & \\mbox{ for $x = 0$ } \\\\\n",
    "      0 & \\mbox{otherwise}\n",
    "   \\end{cases}.\n",
    "$$"
   ]
  },
  {
   "cell_type": "markdown",
   "metadata": {
    "collapsed": true
   },
   "source": [
    "## Inference on a coin\n",
    "Suppose the Patriots are accused of rigging a coin, and we are tasked with investigating the matter. "
   ]
  },
  {
   "cell_type": "markdown",
   "metadata": {},
   "source": [
    "Let's define the Bernoulli random variable $X$ as \n",
    "$$\n",
    "X = \\begin{cases} \n",
    "      1 & \\textrm{if the coin shows heads} \\\\\n",
    "      0 & \\textrm{if the coin shows tails } \\\\\n",
    "   \\end{cases}.\n",
    "$$"
   ]
  },
  {
   "cell_type": "markdown",
   "metadata": {},
   "source": [
    "### Notation and Assumptions\n",
    "$n$- the number of times we flip the coin   \n",
    "$X_1, X_2, \\ldots, X_n$- the resepective Bernoulli trial    \n",
    "$X_1, X_2, \\ldots, X_n$ are independent   \n",
    "$Y = \\sum_{i=1}^n X_i$   \n",
    "$\\theta$- the probability the coin shows Heads (i.e.the $P(X = 1)$) "
   ]
  },
  {
   "cell_type": "markdown",
   "metadata": {},
   "source": [
    "### Define the prior\n",
    "Let's define the prior, $\\pi(\\theta)$ using a beta distribution.\n",
    "$$\n",
    "\\pi(\\theta|\\alpha, \\beta) =\n",
    "\\begin{cases} \\frac{\\Gamma(\\alpha + \\beta)}{\\Gamma(\\alpha) \\Gamma(\\beta)} \n",
    "\\theta^{\\alpha - 1} (1-\\theta)^{\\beta - 1}\n",
    "& \\textrm{for $\\theta \\in [0,1]$}\\\\\n",
    "0 & \\textrm{otherwise}\n",
    "\\end{cases}\n",
    "$$\n",
    "\n",
    "The mean and variance of the beta distribution are given by $\\frac{\\alpha}{\\alpha + \\beta}$ and \n",
    "$\\frac{\\alpha \\beta}{(\\alpha + \\beta)^2(\\alpha +\\beta + 1)}$, respectively [10]."
   ]
  },
  {
   "cell_type": "markdown",
   "metadata": {},
   "source": [
    "#### Define Hyperparameters and Generate Data in Python"
   ]
  },
  {
   "cell_type": "code",
   "execution_count": 1,
   "metadata": {
    "collapsed": false
   },
   "outputs": [
    {
     "name": "stdout",
     "output_type": "stream",
     "text": [
      "There are 74 successes out of 100 trials.\n"
     ]
    }
   ],
   "source": [
    "import numpy as np\n",
    "import matplotlib.pyplot as plt\n",
    "from scipy.stats import beta\n",
    "\n",
    "#Define hyperparameters for U(0,1) prior\n",
    "prior_alpha, prior_beta = 1,1\n",
    "\n",
    "#Define parameter and sample size\n",
    "theta , n = 0.75, 100\n",
    "\n",
    "#Generate Data\n",
    "x = np.random.binomial(1, theta, n)\n",
    "y = x.sum()\n",
    "\n",
    "#NFL CTE Interview [11]\n",
    "#Specify the hyperparameters\n",
    "# prior_mean = 1/1000\n",
    "# prior_alpha = 0.01\n",
    "# prior_beta = prior_alpha/prior_mean - prior_alpha\n",
    "# #Specify the data\n",
    "# n = 4\n",
    "# x = np.repeat(1, n)\n",
    "# y = x.sum()\n",
    "\n",
    "print(\"There are \"+ str(y) + \" successes out of \" + str(n) + \" trials.\")\n"
   ]
  },
  {
   "cell_type": "markdown",
   "metadata": {},
   "source": [
    "#### Plot the Prior"
   ]
  },
  {
   "cell_type": "code",
   "execution_count": 2,
   "metadata": {
    "collapsed": false
   },
   "outputs": [
    {
     "data": {
      "image/png": "[encoded data removed]",
      "text/plain": [
       "<matplotlib.figure.Figure at 0x281730a6f60>"
      ]
     },
     "metadata": {},
     "output_type": "display_data"
    }
   ],
   "source": [
    "xgrid = np.arange(-0.02,1.02,0.01)\n",
    "#Evaluate the prior over the grid\n",
    "prior_of_xgrid = beta.pdf(xgrid, a = prior_alpha, b = prior_beta)\n",
    "\n",
    "\n",
    "#Plot the prior distribution\n",
    "plt.plot(xgrid, prior_of_xgrid)\n",
    "plt.xlabel(r'$\\theta$')\n",
    "plt.ylabel(r'$\\pi(\\theta)$')\n",
    "plt.title(\"Prior Distribtuion\")\n",
    "plt.show()\n"
   ]
  },
  {
   "cell_type": "markdown",
   "metadata": {
    "collapsed": true
   },
   "source": [
    "### Define the Likelihood"
   ]
  },
  {
   "cell_type": "markdown",
   "metadata": {},
   "source": [
    "Since $X_1, X_2, \\ldots, X_n$ are Bernoulli random variables,  using equation (3) the likelihood is given by\n",
    "$$\n",
    "\\begin{align}\n",
    "L(\\theta|y) &= \\prod_{i=1}^n f(x_i|\\theta) \\\\ \n",
    " &= \\prod_{i=1}^n \\theta^{x_i}(1-\\theta)^{1-x_i}\\\\\n",
    " &= \\theta^{\\sum_{i=1}^n x_i}\\hspace{2mm} (1-\\theta)^{n - \\sum_{i=1}^n x_i}\\\\\n",
    " &= \\theta^{y}\\hspace{2mm} (1-\\theta)^{n - y}.\n",
    "\\end{align}\n",
    "$$"
   ]
  },
  {
   "cell_type": "code",
   "execution_count": 3,
   "metadata": {
    "collapsed": false
   },
   "outputs": [
    {
     "data": {
      "image/png": "[encoded data removed]",
      "text/plain": [
       "<matplotlib.figure.Figure at 0x28175719da0>"
      ]
     },
     "metadata": {},
     "output_type": "display_data"
    }
   ],
   "source": [
    "#Define the Likelihood\n",
    "def Lhood_bern(theta):\n",
    "    out = theta**y *(1-theta)**(n - y)\n",
    "    return(out)\n",
    "\n",
    "\n",
    "#Plot the Likelihood\n",
    "plt.plot(xgrid, Lhood_bern(xgrid))\n",
    "plt.axvline(x.mean(), color='orange', linestyle =\"--\")\n",
    "plt.xlabel(r'$\\theta$')\n",
    "plt.ylabel(r'$L(\\theta | x)$')\n",
    "plt.title(\"Likelihood\")\n",
    "plt.show() "
   ]
  },
  {
   "cell_type": "markdown",
   "metadata": {},
   "source": [
    "The likelihood function $L(\\theta$|y) shown with the vertical, dashed line represents the maximum likelihood estimate for $\\theta$, in this case $\\bar x$."
   ]
  },
  {
   "cell_type": "markdown",
   "metadata": {},
   "source": [
    "# Compute the Posterior\n",
    "Now that we have the prior and likelihood we can find the posterior following equation (2) as follows:\n",
    "$$\n",
    "\\begin{align}\n",
    "\\pi (\\theta|y) &\\propto \\pi(\\theta) L(\\theta|y)\\\\\n",
    "&\\propto \\theta^{\\alpha - 1} (1-\\theta)^{\\beta - 1} \\theta^{y}\\hspace{2mm} (1-\\theta)^{n - y}\\\\\n",
    "&\\propto \\theta^{\\alpha + y - 1} (1-\\theta)^{\\beta + n - y - 1}\\\\\n",
    "&\\sim Beta(\\alpha + y, \\beta + n -y)\n",
    "\\end{align}\n",
    "$$"
   ]
  },
  {
   "cell_type": "markdown",
   "metadata": {},
   "source": [
    "NOTE: When for a given likelihood the prior distribution and the posterior distribution have the same functional form the prior distribution is called a conjugate prior for the given likelihood."
   ]
  },
  {
   "cell_type": "markdown",
   "metadata": {},
   "source": [
    "#### Implement Posterior in Python"
   ]
  },
  {
   "cell_type": "code",
   "execution_count": 4,
   "metadata": {
    "collapsed": false
   },
   "outputs": [
    {
     "data": {
      "image/png": "[encoded data removed]",
      "text/plain": [
       "<matplotlib.figure.Figure at 0x281729d6b70>"
      ]
     },
     "metadata": {},
     "output_type": "display_data"
    }
   ],
   "source": [
    "#Define Posterior hyperparameters\n",
    "posterior_alpha = prior_alpha + y\n",
    "posterior_beta = prior_beta + n - y\n",
    "\n",
    "#Create functions to compute posterior mean and standard deviation\n",
    "def beta_mean(a, b):\n",
    "    return(a/(a + b))\n",
    "\n",
    "def beta_stdv(a, b):\n",
    "    denom = (a + b)**2 *(a + b + 1)\n",
    "    vrnc = a*b/denom\n",
    "    return(np.sqrt(vrnc))\n",
    "\n",
    "post_mean = beta_mean(posterior_alpha, posterior_beta)\n",
    "post_stdv = beta_stdv(posterior_alpha, posterior_beta)\n",
    "\n",
    "#Compute Credible set\n",
    "level = 0.05\n",
    "lower = beta.ppf(level / 2, a=posterior_alpha, b=posterior_beta)\n",
    "upper = beta.ppf(1 - level / 2, a=posterior_alpha, b=posterior_beta)\n",
    "\n",
    "\n",
    "#Evaluate the postior over the grid\n",
    "posterior_of_xgrid = beta.pdf(xgrid, a = posterior_alpha, b = posterior_beta)\n",
    "#Plot the posterior\n",
    "plt.plot(xgrid, posterior_of_xgrid)\n",
    "plt.axvline(x=post_mean, color='orange', linestyle='--')\n",
    "plt.xlabel(r'$\\theta$')\n",
    "plt.ylabel(r'$\\pi(\\theta | x)$')\n",
    "plt.title(\"Posterior Distribtuion\")\n",
    "plt.show()\n"
   ]
  },
  {
   "cell_type": "markdown",
   "metadata": {},
   "source": [
    "The posterior distribution for $\\theta$ with a Beta prior and Bernoulli likelihood. The dashed line is the posterior mean."
   ]
  },
  {
   "cell_type": "code",
   "execution_count": 5,
   "metadata": {
    "collapsed": false
   },
   "outputs": [
    {
     "name": "stdout",
     "output_type": "stream",
     "text": [
      "The posterior mean is 0.735294117647 and the posterior standard deviation is 0.0434704093308.\n"
     ]
    }
   ],
   "source": [
    "print(\"The posterior mean is \"+ str(post_mean) + \n",
    "\" and the posterior standard deviation is \" + str(post_stdv ) + \".\")"
   ]
  },
  {
   "cell_type": "code",
   "execution_count": 6,
   "metadata": {
    "collapsed": false
   },
   "outputs": [
    {
     "name": "stdout",
     "output_type": "stream",
     "text": [
      "For our credible set, our lower bound is  0.645986554218 and our upper bound is 0.815865054072.\n"
     ]
    }
   ],
   "source": [
    "print(\"For our credible set, our lower bound is  \"+ str(lower) + \n",
    "\" and our upper bound is \" + str(upper)+\".\")"
   ]
  },
  {
   "cell_type": "markdown",
   "metadata": {},
   "source": [
    "## Summary of a Frequentist Approach\n",
    "As mentioned the Frequentist approach treats $\\theta$ as a fixed constant. A common approach in estimating a binomial proportion is to compute the MLE (Maximum Liklihood Estimate) of $\\theta$ by maximizing the likelihood function. In this case the MLE is given by \n",
    "$$\n",
    "\\bar{X} = \\frac{1}{n} \\sum_{i=1}^n X_i.\n",
    "$$\n",
    "The Frequentist approach would involve describing the distribution of the sampling statistic, in this case $\\bar{X}$. The Central Limit Theorem states that $\\bar{X}$ is approximately normally distributed with mean equal to the population mean and variance equal to the population variance divided by the sample size. In this case, $\\bar{X}$ is approximately distributed as $N(\\theta, \\frac{\\theta (1-\\theta)}{n})$. Therefore,\n",
    "$$\n",
    "Z = \\frac{\\bar{X}- \\theta}{ \\sqrt{\\frac{\\theta (1-\\theta)}{n}}}\n",
    "$$\n",
    "is approximately normally distributed with mean 0 and variance 1. Thus, you can perform null hypothesis significance testing by choosing a particular null value for $\\theta$ and a significance level [1] [4]."
   ]
  },
  {
   "cell_type": "markdown",
   "metadata": {},
   "source": [
    "# German Tank Problem\n",
    "In WWII, Germany manufactured their tanks with consectuive serial numbers. The Allied Powers sought to exploit this to help them determine how many tanks Germany possessed. Comparison of German records to statistical estimates shows that the statistical estimates were much more accurate then the intelligence estimates .\n",
    "\n",
    "The problem can be defined as estimating the maximum of a discrete uniform distribution based on a sample without replacement."
   ]
  },
  {
   "cell_type": "markdown",
   "metadata": {},
   "source": [
    "#### Discrete Uniform Distribution\n",
    "A random variable X is said to have the discrete uniform distribution if and only if the the probability mass function is given by\n",
    "$$\n",
    "P(X =x |N) = \n",
    "\\begin{cases}\n",
    "\\frac{1}{N} & \\mbox{for $x \\in \\{ a, a+1, \\ldots b \\} $ where $N = b - a +1$}\\\\\n",
    "0 & \\textrm{otherwise}.\\\\\n",
    "\\end{cases}\n",
    "$$"
   ]
  },
  {
   "cell_type": "markdown",
   "metadata": {
    "collapsed": true
   },
   "source": [
    "### Notation\n",
    "$N$ is the maximum serial number; $n$ is a realized value for $N$   \n",
    "$M$ is the maximum serial number in the sample; $m$ is a realized value for $M$  \n",
    "$k$ is the number of tanks in the sample  "
   ]
  },
  {
   "cell_type": "markdown",
   "metadata": {},
   "source": [
    "## Example with k = 4\n",
    "Suppose we observe 4 tanks with the highest serial number being 60."
   ]
  },
  {
   "cell_type": "markdown",
   "metadata": {},
   "source": [
    "#### The prior\n",
    "In this analysis we will take the improper uniform prior over all non-negative integers given as\n",
    "$$\n",
    "P(N=n) \\propto \n",
    "1 \\hspace{4mm} \\mbox{for $n \\in \\{0, 1, 2, \\ldots \\}$}.\n",
    "$$"
   ]
  },
  {
   "cell_type": "markdown",
   "metadata": {},
   "source": [
    "#### The Likelihood\n",
    "The likelihood is given by\n",
    "$$\n",
    "P(M = m|n,k) = \n",
    "\\begin{cases}\n",
    "\\frac{\\binom{m-1}{k-1}}{\\binom{n}{k}} & \\mbox{for $m \\leq k$}\\\\\n",
    "0 & \\mbox{otherwise}.\n",
    "\\end{cases}\n",
    "$$"
   ]
  },
  {
   "cell_type": "markdown",
   "metadata": {},
   "source": [
    "#### Posterior \n",
    "Given the likelihood and prior above, Hohle and Held [7] showed that the posterior distrubtion for $N$ by observing $k > 1$ tanks with maximum serial number $M$ is given by\n",
    "$$\n",
    "P(N = n \\hspace{1mm}| \\hspace{1mm} M=m)= \n",
    "\\begin{cases}\n",
    "0 & \\textrm{if $n<k$}\\\\\n",
    "\\frac{k-1}{m} \n",
    "\\frac{\\binom{m}{k}}{\\binom{n}{k}} & \\textrm{if $n \\geq k$}\n",
    "\\end{cases}.\n",
    "$$"
   ]
  },
  {
   "cell_type": "markdown",
   "metadata": {},
   "source": [
    "#### Posterior mean  and standard deviation\n",
    "For $k>3$ the posterior mean $\\mu$ and standard deviation $\\sigma$ are given by\n",
    "$$\n",
    "\\begin{align}\n",
    "\\mu &= \\frac{(m-1)(k-1)}{k-2} \\\\\n",
    "\\sigma &= \\sqrt{\\frac{(m-1)(k-1)(m-k+1)}{(k-3)(k-2)^2}}\n",
    "\\end{align}\n",
    "$$"
   ]
  },
  {
   "cell_type": "markdown",
   "metadata": {},
   "source": [
    "#### Implementation in Python"
   ]
  },
  {
   "cell_type": "code",
   "execution_count": 7,
   "metadata": {
    "collapsed": false
   },
   "outputs": [],
   "source": [
    "#Define the parameters\n",
    "m = 60\n",
    "k = 4\n",
    "N = np.array(range(1,201))"
   ]
  },
  {
   "cell_type": "markdown",
   "metadata": {},
   "source": [
    "Below are a python function for computing the posterior distribution, posterior mean, and posterior standard deviation based on the above three equations."
   ]
  },
  {
   "cell_type": "code",
   "execution_count": 8,
   "metadata": {
    "collapsed": false
   },
   "outputs": [],
   "source": [
    "from scipy.misc import comb\n",
    "\n",
    "def eval_point(n):\n",
    "    if n <m:\n",
    "        return(0)\n",
    "    else:\n",
    "        numer = (k-1)/k *comb(m-1,k-1)\n",
    "        denom = comb(n, k)\n",
    "        return(numer/denom)\n",
    "\n",
    "def posterior(n):\n",
    "    list_eval_points = []\n",
    "    for m in n:\n",
    "        eval = eval_point(m)\n",
    "        list_eval_points.append(eval)\n",
    "    out = np.array(list_eval_points)\n",
    "    return(out)\n",
    "def posterior_mean(M=m, K=k):\n",
    "    numer = (M-1)*(K-1)\n",
    "    denom = K-2\n",
    "    return(numer/denom)\n",
    "    \n",
    "def posterior_stdev(M=m, K=k):\n",
    "    numer = (m-1)*(k-1)*(m-k+1)\n",
    "    denom = (k-3)*(k-2)**2\n",
    "    var = numer/denom\n",
    "    std_dev = np.sqrt(var)\n",
    "    return(std_dev)\n"
   ]
  },
  {
   "cell_type": "code",
   "execution_count": 9,
   "metadata": {
    "collapsed": false
   },
   "outputs": [
    {
     "data": {
      "image/png": "[encoded data removed]",
      "text/plain": [
       "<matplotlib.figure.Figure at 0x2817578f0b8>"
      ]
     },
     "metadata": {},
     "output_type": "display_data"
    }
   ],
   "source": [
    "post_mean = posterior_mean()\n",
    "post_stdv = posterior_stdev()\n",
    "\n",
    "fig, ax = plt.subplots()\n",
    "ax.stem(N, posterior(N))\n",
    "plt.axvline(x=post_mean, linestyle=\"--\", color=\"orange\")\n",
    "plt.xlabel(\"N\")\n",
    "plt.ylabel(r'$\\pi(N | x)$')\n",
    "plt.title(\"Posterior Distribtuion\")\n",
    "plt.show()\n"
   ]
  },
  {
   "cell_type": "code",
   "execution_count": 10,
   "metadata": {
    "collapsed": false
   },
   "outputs": [
    {
     "name": "stdout",
     "output_type": "stream",
     "text": [
      "The posterior mean is 88.5 and standard deviation is  50.2220071283.\n"
     ]
    }
   ],
   "source": [
    "print(\"The posterior mean is \"+ str(post_mean)+\" and standard deviation is \", str(post_stdv) + \".\")"
   ]
  },
  {
   "cell_type": "markdown",
   "metadata": {},
   "source": [
    "## Sampling Algorithims\n",
    "Often times the posterior distrubtion does not have a simple function form. In which case describing the posterior distribution may require a sampling from the posterior distribution using a sampling algorithim. Below are the two most common sampling algorithims used in Bayesian statistics.\n",
    "\n",
    "* Metropolis-Hastings\n",
    "* Gibbs Sampling"
   ]
  },
  {
   "cell_type": "markdown",
   "metadata": {},
   "source": [
    "## Example with k = 1"
   ]
  },
  {
   "cell_type": "markdown",
   "metadata": {},
   "source": [
    "When $k=1$ we cannot use the approach we did above. Suppose we believe that $N$ is between $0$ and $1,000$, and we observe one tank with serial number $60$. We can use this information to update our beliefs about the existing number of tanks. Usign the discrete uniform distribution with $a=60$ and $b=1000$ and the discrete uniform likelihood with $a=0$ and $b=1000$, we can sample from the posterior distribution using the Metropolis Hastings algorithim with PyMC3 and estimate the number of tanks.\n"
   ]
  },
  {
   "cell_type": "code",
   "execution_count": 11,
   "metadata": {
    "collapsed": true
   },
   "outputs": [],
   "source": [
    "import pymc3 as pm"
   ]
  },
  {
   "cell_type": "code",
   "execution_count": 12,
   "metadata": {
    "collapsed": false
   },
   "outputs": [
    {
     "name": "stderr",
     "output_type": "stream",
     "text": [
      "100%|███████████████████████████████| 100000/100000 [00:08<00:00, 11548.56it/s]\n"
     ]
    }
   ],
   "source": [
    "y = np.array([60])\n",
    "\n",
    "model = pm.Model()\n",
    "with model:\n",
    "    #Prior Discrete Uniform(y.max(), 1000)\n",
    "    N = pm.DiscreteUniform(\"N\", lower=y.max(), upper=1000)\n",
    "    #Likelihood Discrete Uniform(0, upper = 1000)\n",
    "    y_obs = pm.DiscreteUniform(\"y_obs\", lower=0, upper=N, observed=y)\n",
    "    \n",
    "    step = pm.Metropolis()\n",
    "    start = {\"N\": y.max()}\n",
    "    trace = pm.sample(100000, step, start, chain=1, njobs=1)"
   ]
  },
  {
   "cell_type": "code",
   "execution_count": 13,
   "metadata": {
    "collapsed": false
   },
   "outputs": [
    {
     "name": "stdout",
     "output_type": "stream",
     "text": [
      "\n",
      "N:\n",
      "\n",
      "  Mean             SD               MC Error         95% HPD interval\n",
      "  -------------------------------------------------------------------\n",
      "  \n",
      "  337.752          256.952          2.396            [60.000, 873.000]\n",
      "\n",
      "  Posterior quantiles:\n",
      "  2.5            25             50             75             97.5\n",
      "  |--------------|==============|==============|--------------|\n",
      "  \n",
      "  64.000         124.000        249.000        502.000        935.000\n",
      "\n"
     ]
    }
   ],
   "source": [
    "pm.summary(trace[10000:])"
   ]
  },
  {
   "cell_type": "code",
   "execution_count": 14,
   "metadata": {
    "collapsed": false
   },
   "outputs": [
    {
     "data": {
      "image/png": "[encoded data removed]",
      "text/plain": [
       "<matplotlib.figure.Figure at 0x28178bfc748>"
      ]
     },
     "metadata": {},
     "output_type": "display_data"
    }
   ],
   "source": [
    "pm.traceplot(trace[10000:])\n",
    "plt.show()"
   ]
  },
  {
   "cell_type": "markdown",
   "metadata": {},
   "source": [
    "## Summary of a Frequentist Approach\n",
    "Leon Goodman obtained the minimum variance unbiased estimator for $N$ given by \n",
    "$$\n",
    "\\hat{N} = m + \\frac{m}{k} -1.\n",
    "$$\n",
    "Goodman also describes the sampling distribution of $\\hat{N}$ and computing confidence intervals."
   ]
  },
  {
   "cell_type": "markdown",
   "metadata": {},
   "source": [
    "# Summary\n",
    "\n",
    "## Advantages of a Bayesian Approach\n",
    "* Incorporating prior knowledge into estimation\n",
    "* Probabilistic Interpretation\n",
    "* Model Comparison\n",
    "* Hypothesis testing\n",
    "* Power analysis\n",
    "\n",
    "## Disadvantages of a Bayesian Approach\n",
    "* Introduces subjectivity\n",
    "* Computationally inefficient at times\n",
    "* Communication"
   ]
  },
  {
   "cell_type": "markdown",
   "metadata": {},
   "source": [
    "# References\n",
    "[1] “8.1.2.1 - Normal Approximation Method Formulas.” 8.1.2.1 - Normal Approximation Method Formulas | STAT 200, Pennsylvania State University, onlinecourses.science.psu.edu/stat200/node/53.\n",
    "\n",
    "[2] Casella, George, and Roger L. Berger. “Statistical Inference.” Statistical Inference, 2nd ed., Brooks/Cole Cengage Learning, 2013, p. 20.\n",
    "\n",
    "[3] Casella, George, and Roger L. Berger. “Statistical Inference.” Statistical Inference, 2nd ed., Brooks/Cole Cengage Learning, 2013, p. 23.\n",
    "\n",
    "[4] Casella, George, and Roger L. Berger. “Statistical Inference.” Statistical Inference, 2nd ed., Brooks/Cole Cengage Learning, 2013, p. 236.\n",
    "\n",
    "[5] Casella, George, and Roger L. Berger. “Statistical Inference.” Statistical Inference, 2nd ed., Brooks/Cole Cengage Learning, 2013, p. 290.\n",
    "\n",
    "[6] Gelman, Andrew, et al. Bayesian Data Analysis. 3rd ed., Chapman & Hall/CRC, 2014\n",
    "\n",
    "[7] Hohle, Michael, and Leonhard Held. “Bayesian Estimation of the Size of a Population.” 22 Aug. 2017, epub.ub.uni-muenchen.de/2094/1/paper_499.pdf.\n",
    "\n",
    "[8] Kruschke, John K. Doing Bayesian Data Analysis: a Tutorial with R and BUGS. Academic Press, 2011.\n",
    "\n",
    "[9] Ruggles, Richard, and Henry Brodie. “An Empirical Approach to Economic Intelligence in World War II.” Journal of the American Statistical Association, vol. 42, p. 89.\n",
    "\n",
    "[10] Siegrist, Kyle. “The Beta Distribution.” The Beta Distribution, The University of Alabama at Huntsville, 22 Aug. 2017, www.math.uah.edu/stat/special/Beta.html.\n",
    "\n",
    "[11] “The Numbers Behind Chronic Traumatic Encephalopathy (CTE).” Stats and Stories, Miami University and the American Statistical Association, 17 Aug. 2017, www.cas.miamioh.edu/statsandstories/index.html. Podcast."
   ]
  },
  {
   "cell_type": "markdown",
   "metadata": {},
   "source": [
    "# Further Reading\n",
    "Downey, Allen B. Think Bayes. O'Reilly, 2016.\n",
    "\n",
    "Gelman, Andrew, et al. Bayesian Data Analysis. 3rd ed., Chapman & Hall/CRC, 2014.\n",
    "\n",
    "Kruschke, John K. Doing Bayesian Data Analysis: a Tutorial with R, JAGS, and Stan. Academic Press, 2015.\n",
    "\n",
    "PyMC: Welcome to PyMC3's Documentation! — PyMC3 3.1 Documentation, pymc-devs.github.io/pymc3/index.html.\n",
    "\n",
    "PyStan: The Python Interface to Stan — PyStan 2.16.0.0 Documentation, pystan.readthedocs.io/en/latest/.\n",
    "\n",
    "Lindelof, David. “Bayesian Tanks.” R-Bloggers, 19 Nov. 2015, www.r-bloggers.com/bayesian-tanks/.\n",
    "\n",
    "Slavitt, Isaac. “Solving the Bayesian German Tank Problem with PyMC and PyStan | Isaac Slavitt.” Isaac Slavitt Full Atom, isaacslavitt.com/2015/12/19/german-tank-problem-with-pymc-and-pystan/.\n"
   ]
  }
 ],
 "metadata": {
  "kernelspec": {
   "display_name": "Python [default]",
   "language": "python",
   "name": "python3"
  },
  "language_info": {
   "codemirror_mode": {
    "name": "ipython",
    "version": 3
   },
   "file_extension": ".py",
   "mimetype": "text/x-python",
   "name": "python",
   "nbconvert_exporter": "python",
   "pygments_lexer": "ipython3",
   "version": "3.5.3"
  }
 },
 "nbformat": 4,
 "nbformat_minor": 2
}
