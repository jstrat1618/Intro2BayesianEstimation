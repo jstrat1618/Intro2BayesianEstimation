{
 "cells": [
  {
   "cell_type": "markdown",
   "metadata": {},
   "source": [
    "# Introduction to Bayes Theorem"
   ]
  },
  {
   "cell_type": "markdown",
   "metadata": {},
   "source": [
    "We can easily derieve Bayes Theorem from the defintion of conditional probability."
   ]
  },
  {
   "cell_type": "markdown",
   "metadata": {},
   "source": [
    "Defintion of Conditional Probability: The conditional probability of event $A$ given event $B$, denoted $P(A|B)$ is defined as\n",
    "\n",
    "$$\n",
    "P(A|B) = \\frac{P(A \\cap B )}{P(B)}.\n",
    "$$"
   ]
  },
  {
   "cell_type": "markdown",
   "metadata": {},
   "source": [
    "Similarily, the conditional probability of B given A is given as \n",
    "$$\n",
    "P(B|A) = \\frac{P(B \\cap A)}{P(A)}.\n",
    "$$\n",
    "\n",
    "Using this we can conclude that the $P(B \\cap A)$ is given by\n",
    "$$\n",
    " P(B \\cap A)= P(A) P(B|A) = P(B) P(A|B).\n",
    "$$"
   ]
  },
  {
   "cell_type": "markdown",
   "metadata": {
    "collapsed": true
   },
   "source": [
    "Now we can express the $P(B|A)$ as,\n",
    "$$\n",
    "P(B|A) = \\frac{P(B) P(A|B)}{P(A)}.\n",
    "$$"
   ]
  },
  {
   "cell_type": "markdown",
   "metadata": {},
   "source": [
    "If B is partitioned into the events $B_1, B_2, \\ldots B_m$, then we can write $P(A)$ as\n",
    "$$\n",
    "P(A) = \\sum_{i=1}^m P(B_i)P(A|B_i).\n",
    "$$"
   ]
  },
  {
   "cell_type": "markdown",
   "metadata": {},
   "source": [
    "Therefore, for each $j = 1,2, \\ldots$ the $P(B_j|A)$ is given by\n",
    "$$\n",
    "P(B_j|A) = \\frac{P(B_j) P(A|B_j)}{\\sum_{i=1}^m P(B_i)P(A|B_i)}.\n",
    "$$\n"
   ]
  },
  {
   "cell_type": "markdown",
   "metadata": {},
   "source": [
    "## Example Problem\n",
    "Suppose A disease afflicts 0.1% individuals in a population. A test has been developed for this disease. An idividual with the disease will test positive for the disease 99% of the time, and an individual without the disease will test postive 1% of time. Suppose an individual is selected at random for this disease and tested. The test shows a positive result. What is the probability that this individual actually has the disease?"
   ]
  },
  {
   "cell_type": "markdown",
   "metadata": {},
   "source": [
    "Let D be the event that the selected person has the disease.\n",
    "Let A be the event that the selected person tests positive for the disease.\n",
    "\n",
    "From the the problem we can deduce that $P(D) = 0.001$, $P(A|D) = 0.99$, and $P(A|D^C) = 0.01$. Since $P(D) = 0.001)$ we can conclude that $P(D^C) = 1-P(D) = 0.999)$. \n",
    "\n",
    "Therefore, \n",
    "$$\n",
    "P(D|A) = \\frac{P(D)P(A|D)}{P(D)P(A|D) + P(D^C)P(A|D^C)} = \\frac{0.001*0.99}{0.001*0.99 + 0.999*0.01} \\approx 0.0902.\n",
    "$$"
   ]
  },
  {
   "cell_type": "markdown",
   "metadata": {},
   "source": [
    "# Bernoulli Trials\n",
    "A Bernoulli trial is trial in which there is exactly two possible outcomes, \"success\" and \"failure\". Defining the random variable, $X$ as $1$ is the Bernoulli trial is a \"success\" and $0$ if the Bernoulli trial is a \"failure\", the probability mass function of a bernoulli random variable is given by \n",
    "\n",
    "$$\n",
    "f(x|\\theta) = \\theta^x (1-\\theta)^{1-x} \\hspace{5mm} \\mbox{for} \\hspace{3mm} x \\in \\{0,1\\}.\n",
    "$$"
   ]
  },
  {
   "cell_type": "markdown",
   "metadata": {},
   "source": [
    "Alternatively, $f(x|\\theta)$ can also be expressed as\n",
    "$$\n",
    "f(x|\\theta) = \\begin{cases} \n",
    "      \\theta & \\textrm{ for $x = 1$} \\\\\n",
    "      1 - \\theta & \\textrm{ for $x = 0$ } \\\\\n",
    "   \\end{cases}.\n",
    "$$"
   ]
  },
  {
   "cell_type": "markdown",
   "metadata": {
    "collapsed": true
   },
   "source": [
    "## Flipping the Patriot's Superbowl Coin\n",
    "Suppose the Patriot's are accused of rigging a coin, and we are tasked with investigating the matter. "
   ]
  },
  {
   "cell_type": "markdown",
   "metadata": {},
   "source": [
    "Let's define the Bernoulli random variable $X$ as \n",
    "$$\n",
    "X = \\begin{cases} \n",
    "      1 & \\textrm{if the coin shows heads} \\\\\n",
    "      0 & \\textrm{if the coin shows tails } \\\\\n",
    "   \\end{cases}.\n",
    "$$"
   ]
  },
  {
   "cell_type": "markdown",
   "metadata": {},
   "source": [
    "Suppose we flip the coin $n$ times and define the trials, $X_1, X_2, \\ldots, X_n$. We are interested estimating $\\theta$."
   ]
  },
  {
   "cell_type": "markdown",
   "metadata": {},
   "source": [
    "### Generate the data"
   ]
  },
  {
   "cell_type": "code",
   "execution_count": 3,
   "metadata": {
    "collapsed": true
   },
   "outputs": [],
   "source": [
    "import numpy as np\n",
    "#Define parameter and sample size\n",
    "theta , n = 0.5, 10\n",
    "\n",
    "#Generate Data\n",
    "x = np.random.binomial(1, theta, n)"
   ]
  },
  {
   "cell_type": "markdown",
   "metadata": {},
   "source": [
    "### Define the prior\n",
    "Let's define the prior, $\\pi(\\theta)$ using a beta distribution.\n",
    "$$\n",
    "\\pi(\\theta) = \\frac{\\Gamma(\\alpha + \\beta)}{\\Gamma(\\alpha) \\Gamma(\\beta)} \\theta^{\\alpha - 1} (1-\\theta)^{\\beta - 1}\n",
    "$$"
   ]
  },
  {
   "cell_type": "code",
   "execution_count": 5,
   "metadata": {
    "collapsed": false
   },
   "outputs": [
    {
     "data": {
      "image/png": "[encoded data removed]",
      "text/plain": [
       "<matplotlib.figure.Figure at 0x1bf736854a8>"
      ]
     },
     "metadata": {},
     "output_type": "display_data"
    }
   ],
   "source": [
    "#Define hyperparameters\n",
    "prior_alpha, prior_beta = 1,1\n",
    "\n",
    "import matplotlib.pyplot as plt\n",
    "from scipy.stats import beta\n",
    "\n",
    "xgrid = np.arange(-0.1,1.1,0.01)\n",
    "#Evaluate the prior over the grid\n",
    "prior_of_xgrid = beta.pdf(xgrid, a = prior_alpha, b = prior_beta)\n",
    "\n",
    "#Plot the prior distribution\n",
    "plt.plot(xgrid, prior_of_xgrid)\n",
    "plt.xlabel(r'$\\theta$')\n",
    "plt.ylabel(r'$\\pi(\\theta)$')\n",
    "plt.title(\"Prior Distribtuion\")\n",
    "plt.show()\n"
   ]
  },
  {
   "cell_type": "markdown",
   "metadata": {
    "collapsed": true
   },
   "source": [
    "### Define the Likelihood\n",
    "The likelihood of $\\theta$ is the function $L(\\theta)$ given by\n",
    "$$\n",
    "L(\\theta|x) = \\prod_{i = 1}^n f(x_i | \\theta).\n",
    "$$"
   ]
  },
  {
   "cell_type": "markdown",
   "metadata": {},
   "source": [
    "In this case the likelihood is given by\n",
    "$$\n",
    "L(\\theta) = \\prod_{i=1}^n f(x_i|\\theta) = \\theta^{x_i}(1-\\theta)^{1-x_i}\n",
    "$$"
   ]
  },
  {
   "cell_type": "markdown",
   "metadata": {},
   "source": [
    "$$\n",
    "= \\theta^{\\sum_{i=1}^n x_i}\\hspace{2mm} (1-\\theta)^{n - \\sum_{i=1}^n x_i}.\n",
    "$$"
   ]
  },
  {
   "cell_type": "markdown",
   "metadata": {},
   "source": [
    "### Find the posterior\n",
    "We can find the posterior distribution\n",
    "$$\n",
    "\\pi(\\theta | x) \\propto L(\\theta|x) \\pi(\\theta) \\propto \\theta^{\\sum_{i=1}^n x_i}\\hspace{2mm} (1-\\theta)^{n - \\sum_{i=1}^n x_i} \\hspace{2mm}\\theta^{\\alpha - 1} (1-\\theta)^{\\beta - 1}\n",
    "$$"
   ]
  },
  {
   "cell_type": "markdown",
   "metadata": {},
   "source": [
    "$$\n",
    "\\theta^{\\alpha + \\sum_{i=1}^n x_i - 1}\\hspace{2mm} (1-\\theta)^{\\beta + n - \\sum_{i=1}^n x_i -1} \n",
    "\\sim Beta (\\alpha + \\sum_{i=1}^n x_i, \\beta + n - \\sum_{i=1}^n x_i)\n",
    "$$"
   ]
  },
  {
   "cell_type": "code",
   "execution_count": 6,
   "metadata": {
    "collapsed": false
   },
   "outputs": [
    {
     "data": {
      "image/png": "[encoded data removed]",
      "text/plain": [
       "<matplotlib.figure.Figure at 0x1bf770d29e8>"
      ]
     },
     "metadata": {},
     "output_type": "display_data"
    }
   ],
   "source": [
    "#Define Posterior hyperparameters\n",
    "posterior_alpha = prior_alpha + x.sum()\n",
    "posterior_beta = prior_beta + n - x.sum()\n",
    "\n",
    "#Evaluate the postior over the grid\n",
    "posterior_of_xgrid = beta.pdf(xgrid, a = posterior_alpha, b = posterior_beta)\n",
    "#Plot the posterior\n",
    "plt.plot(xgrid, posterior_of_xgrid)\n",
    "plt.xlabel(r'$\\theta$')\n",
    "plt.ylabel(r'$\\pi(\\theta | x)$')\n",
    "plt.title(\"Posterior Distribtuion\")\n",
    "plt.show()\n"
   ]
  },
  {
   "cell_type": "code",
   "execution_count": null,
   "metadata": {
    "collapsed": true
   },
   "outputs": [],
   "source": []
  }
 ],
 "metadata": {
  "kernelspec": {
   "display_name": "Python [default]",
   "language": "python",
   "name": "python3"
  },
  "language_info": {
   "codemirror_mode": {
    "name": "ipython",
    "version": 3
   },
   "file_extension": ".py",
   "mimetype": "text/x-python",
   "name": "python",
   "nbconvert_exporter": "python",
   "pygments_lexer": "ipython3",
   "version": "3.5.2"
  }
 },
 "nbformat": 4,
 "nbformat_minor": 2
}
