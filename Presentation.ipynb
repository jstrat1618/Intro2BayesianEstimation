{
 "cells": [
  {
   "cell_type": "markdown",
   "metadata": {},
   "source": [
    "# Overview"
   ]
  },
  {
   "cell_type": "markdown",
   "metadata": {},
   "source": [
    "I.) Introduction to Bayes Theorem\n",
    "    * Derivation of Bayes Theorem\n",
    "    * Example Problem\n",
    "II.) Estimating a Binomial Proportion\n",
    "    * Bernoulli Trials\n",
    "    * Inference on a coin\n",
    "            * Notation and Assumption\n",
    "            * Define and plot the Prior\n",
    "            * Generate the data\n",
    "            * Define and plot the Likelihood\n",
    "            * Find and plot the Posterior\n",
    "III.) Introduction to the German Tank Problem\n",
    "    * Background\n",
    "    * Discrete Uniform Distribution\n",
    "    * Notation\n",
    "    * Example with K = 4\n",
    "    * Example with K = 1\n",
    "            \n",
    "            "
   ]
  },
  {
   "cell_type": "markdown",
   "metadata": {},
   "source": [
    "# Introduction to Bayes Theorem"
   ]
  },
  {
   "cell_type": "markdown",
   "metadata": {},
   "source": [
    "We can easily derieve Bayes Theorem from the defintion of conditional probability."
   ]
  },
  {
   "cell_type": "markdown",
   "metadata": {},
   "source": [
    "Defintion of Conditional Probability: The conditional probability of event $A$ given event $B$, denoted $P(A|B)$ is defined as\n",
    "\n",
    "$$\n",
    "P(A|B) = \\frac{P(A \\cap B )}{P(B)}.\n",
    "$$"
   ]
  },
  {
   "cell_type": "markdown",
   "metadata": {},
   "source": [
    "Similarily, the conditional probability of B given A is given as \n",
    "$$\n",
    "P(B|A) = \\frac{P(B \\cap A)}{P(A)}.\n",
    "$$\n",
    "\n",
    "Using this we can conclude that the $P(B \\cap A)$ is given by\n",
    "$$\n",
    " P(B \\cap A)= P(A) P(B|A) = P(B) P(A|B).\n",
    "$$"
   ]
  },
  {
   "cell_type": "markdown",
   "metadata": {
    "collapsed": true
   },
   "source": [
    "Now we can express the $P(B|A)$ as,\n",
    "$$\n",
    "P(B|A) = \\frac{P(B) P(A|B)}{P(A)}.\n",
    "$$"
   ]
  },
  {
   "cell_type": "markdown",
   "metadata": {},
   "source": [
    "If B is partitioned into the events $B_1, B_2, \\ldots B_m$, then we can write $P(A)$ as\n",
    "$$\n",
    "P(A) = \\sum_{i=1}^m P(B_i)P(A|B_i).\n",
    "$$"
   ]
  },
  {
   "cell_type": "markdown",
   "metadata": {},
   "source": [
    "Therefore, for each $j = 1,2, \\ldots$,m the $P(B_j|A)$ is given by\n",
    "$$\n",
    "P(B_j|A) = \\frac{P(B_j) P(A|B_j)}{\\sum_{i=1}^m P(B_i)P(A|B_i)}.\n",
    "$$\n"
   ]
  },
  {
   "cell_type": "markdown",
   "metadata": {},
   "source": [
    "## Example Problem\n",
    "Suppose A disease afflicts 0.1% individuals in a population. A test has been developed for this disease. An idividual with the disease will test positive for the disease 99% of the time, and an individual without the disease will test postive 1% of time. Suppose an individual is selected at random for this disease and tested. The test shows a positive result. What is the probability that this individual actually has the disease?"
   ]
  },
  {
   "cell_type": "markdown",
   "metadata": {},
   "source": [
    "Let D be the event that the selected person has the disease.\n",
    "Let A be the event that the selected person tests positive for the disease.\n",
    "\n",
    "From the the problem we can deduce that $P(D) = 0.001$, $P(A|D) = 0.99$, and $P(A|D^C) = 0.01$. Since $P(D) = 0.001)$ we can conclude that $P(D^C) = 1-P(D) = 0.999)$. \n",
    "\n",
    "Therefore, \n",
    "$$\n",
    "P(D|A) = \\frac{P(D)P(A|D)}{P(D)P(A|D) + P(D^C)P(A|D^C)} = \\frac{0.001*0.99}{0.001*0.99 + 0.999*0.01} \\approx 0.0902.\n",
    "$$"
   ]
  },
  {
   "cell_type": "markdown",
   "metadata": {},
   "source": [
    "# Bernoulli Trials\n",
    "A Bernoulli trial is trial in which there is exactly two possible outcomes, \"success\" and \"failure\". Defining the random variable, $X$ as $1$ is the Bernoulli trial is a \"success\" and $0$ if the Bernoulli trial is a \"failure\", the probability mass function of a bernoulli random variable is given by \n",
    "\n",
    "$$\n",
    "f(x|\\theta) = \n",
    "\\begin{cases}\n",
    "\\theta^x (1-\\theta)^{1-x} \\hspace{5mm} & \\mbox{for} \\hspace{3mm} x \\in \\{0,1\\}.\\\\\n",
    "0 & \\mbox{otherwise}\\\\\n",
    "\\end{cases}\n",
    "$$"
   ]
  },
  {
   "cell_type": "markdown",
   "metadata": {},
   "source": [
    "Alternatively, $f(x|\\theta)$ can also be expressed as\n",
    "$$\n",
    "f(x|\\theta) = \n",
    "\\begin{cases} \n",
    "      \\theta & \\mbox{ for $x = 1$} \\\\\n",
    "      1 - \\theta & \\mbox{ for $x = 0$ } \\\\\n",
    "      0 & \\mbox{otherwise}\n",
    "   \\end{cases}.\n",
    "$$"
   ]
  },
  {
   "cell_type": "markdown",
   "metadata": {
    "collapsed": true
   },
   "source": [
    "## Flipping the Patriot's Superbowl Coin\n",
    "Suppose the Patriots are accused of rigging a coin, and we are tasked with investigating the matter. "
   ]
  },
  {
   "cell_type": "markdown",
   "metadata": {},
   "source": [
    "Let's define the Bernoulli random variable $X$ as \n",
    "$$\n",
    "X = \\begin{cases} \n",
    "      1 & \\textrm{if the coin shows heads} \\\\\n",
    "      0 & \\textrm{if the coin shows tails } \\\\\n",
    "   \\end{cases}.\n",
    "$$"
   ]
  },
  {
   "cell_type": "markdown",
   "metadata": {},
   "source": [
    "### Notation and Assumptions\n",
    "$n$- the number of times we flip the coin   \n",
    "$X_1, X_2, \\ldots, X_n$- the resepective Bernoulli trial\n",
    "$X_1, X_2, \\ldots, X_n$ are independent   \n",
    "$X_1, X_2, \\ldots, X_n \\sim f(x|\\theta)$- each Bernoulli trial is distributed accoring the function $f$   \n",
    "$Y = \\sum_{i=1}^n X_i$   \n",
    "$\\theta$- the probability the coin shows Heads (i.e.the $P(X = 1)$ "
   ]
  },
  {
   "cell_type": "markdown",
   "metadata": {},
   "source": [
    "### Define the prior\n",
    "Let's define the prior, $\\pi(\\theta)$ using a beta distribution.\n",
    "$$\n",
    "\\pi(\\theta|\\alpha, \\beta) =\n",
    "\\begin{cases} \\frac{\\Gamma(\\alpha + \\beta)}{\\Gamma(\\alpha) \\Gamma(\\beta)} \n",
    "\\theta^{\\alpha - 1} (1-\\theta)^{\\beta - 1}\n",
    "& \\textrm{for $\\theta \\in [0,1]$}\\\\\n",
    "0 & \\textrm{otherwise}\n",
    "\\end{cases}\n",
    "$$\n",
    "\n",
    "The mean and variance of the beta distribution are given by $\\frac{\\alpha}{\\alpha + \\beta}$ and \n",
    "$\\frac{\\alpha \\beta}{(\\alpha + \\beta)^2(\\alpha +\\beta + 1)}$, respectively."
   ]
  },
  {
   "cell_type": "markdown",
   "metadata": {},
   "source": [
    "NOTE: The parameters of the prior distribution are referred to as hyperparameters."
   ]
  },
  {
   "cell_type": "code",
   "execution_count": 18,
   "metadata": {
    "collapsed": false
   },
   "outputs": [
    {
     "data": {
      "image/png": "[encoded data removed]",
      "text/plain": [
       "<matplotlib.figure.Figure at 0x1829a8ac198>"
      ]
     },
     "metadata": {},
     "output_type": "display_data"
    }
   ],
   "source": [
    "import numpy as np\n",
    "import matplotlib.pyplot as plt\n",
    "from scipy.stats import beta\n",
    "\n",
    "#Define hyperparameters\n",
    "prior_alpha, prior_beta = 1,1\n",
    "\n",
    "xgrid = np.arange(-0.05,1.05,0.01)\n",
    "#Evaluate the prior over the grid\n",
    "prior_of_xgrid = beta.pdf(xgrid, a = prior_alpha, b = prior_beta)\n",
    "\n",
    "\n",
    "#Plot the prior distribution\n",
    "plt.plot(xgrid, prior_of_xgrid)\n",
    "plt.xlabel(r'$\\theta$')\n",
    "plt.ylabel(r'$\\pi(\\theta)$')\n",
    "plt.title(\"Prior Distribtuion\")\n",
    "plt.show()\n"
   ]
  },
  {
   "cell_type": "markdown",
   "metadata": {},
   "source": [
    "### Generate the Data"
   ]
  },
  {
   "cell_type": "code",
   "execution_count": 5,
   "metadata": {
    "collapsed": false
   },
   "outputs": [],
   "source": [
    "#Define parameter and sample size\n",
    "theta , n = 0.5, 10\n",
    "\n",
    "#Generate Data\n",
    "x = np.random.binomial(1, theta, n)\n",
    "y = x.sum()"
   ]
  },
  {
   "cell_type": "markdown",
   "metadata": {
    "collapsed": true
   },
   "source": [
    "### Define the Likelihood\n",
    "The likelihood of $\\theta$ is the function $L(\\theta |x)$ given by\n",
    "$$\n",
    "L(\\theta|x) = \\prod_{i = 1}^n f(x_i | \\theta).\n",
    "$$"
   ]
  },
  {
   "cell_type": "markdown",
   "metadata": {},
   "source": [
    "In this case the likelihood is given by\n",
    "$$\n",
    "\\begin{align}\n",
    "L(\\theta|y) &= \\prod_{i=1}^n f(x_i|\\theta) \\\\ \n",
    " &= \\prod_{i=1}^n \\theta^{x_i}(1-\\theta)^{1-x_i}\\\\\n",
    " &= \\theta^{\\sum_{i=1}^n x_i}\\hspace{2mm} (1-\\theta)^{n - \\sum_{i=1}^n x_i}\\\\\n",
    " &= \\theta^{y}\\hspace{2mm} (1-\\theta)^{n - y}.\n",
    "\\end{align}\n",
    "$$"
   ]
  },
  {
   "cell_type": "code",
   "execution_count": 28,
   "metadata": {
    "collapsed": false
   },
   "outputs": [
    {
     "data": {
      "image/png": "[encoded data removed]",
      "text/plain": [
       "<matplotlib.figure.Figure at 0x1829c194c18>"
      ]
     },
     "metadata": {},
     "output_type": "display_data"
    }
   ],
   "source": [
    "#Define the Likelihood\n",
    "def Lhood_bern(theta):\n",
    "    out = theta**y *(1-theta)**(n - y)\n",
    "    return(out)\n",
    "\n",
    "\n",
    "#Plot the Likelihood\n",
    "plt.plot(xgrid, Lhood_bern(xgrid))\n",
    "plt.axvline(x.mean(), color='orange', linestyle =\"--\")\n",
    "plt.xlabel(r'$\\theta$')\n",
    "plt.ylabel(r'$L(\\theta | x)$')\n",
    "plt.title(\"Likelihood\")\n",
    "plt.show() "
   ]
  },
  {
   "cell_type": "markdown",
   "metadata": {},
   "source": [
    "The Likelihood function $L(\\theta$|y) shown with the vertical, dashed line represents the maximum likelihood estimate for $\\theta$, in this case $\\bar x$."
   ]
  },
  {
   "cell_type": "markdown",
   "metadata": {},
   "source": [
    "# Compute the Posterior\n",
    "Now that we have the prior and likelihood we can define the posterior as follows:\n",
    "$$\n",
    "\\begin{align}\n",
    "\\pi (\\theta|y) &\\propto \\pi(theta) L(\\theta|y)\\\\\n",
    "&\\propto \\theta^{\\alpha - 1} (1-\\theta)^{\\beta - 1} \\theta^{y}\\hspace{2mm} (1-\\theta)^{n - y}\\\\\n",
    "&\\propto \\theta^{\\alpha + y - 1} (1-\\theta)^{\\beta + n - y - 1}\\\\\n",
    "&\\sim Beta(\\alpha + y, \\beta + n -y)\n",
    "\\end{align}\n",
    "$$"
   ]
  },
  {
   "cell_type": "markdown",
   "metadata": {},
   "source": [
    "NOTE: When for a given likelihood the prior distribution and the posterior distribution have the same functional form the prior distribution is called a conjugate prior for the given likelihood."
   ]
  },
  {
   "cell_type": "code",
   "execution_count": 29,
   "metadata": {
    "collapsed": false
   },
   "outputs": [
    {
     "data": {
      "image/png": "[encoded data removed]",
      "text/plain": [
       "<matplotlib.figure.Figure at 0x18297ec7e80>"
      ]
     },
     "metadata": {},
     "output_type": "display_data"
    },
    {
     "name": "stdout",
     "output_type": "stream",
     "text": [
      "The posterior mean is 0.583333333333 and the posterior standard deviation is 0.136735442357\n"
     ]
    }
   ],
   "source": [
    "#Define Posterior hyperparameters\n",
    "posterior_alpha = prior_alpha + x.sum()\n",
    "posterior_beta = prior_beta + n - x.sum()\n",
    "\n",
    "#Create functions to compute posterior mean and standard deviation\n",
    "def beta_mean(a, b):\n",
    "    return(a/(a + b))\n",
    "\n",
    "def beta_stdv(a, b):\n",
    "    denom = (a + b)**2 *(a + b + 1)\n",
    "    vrnc = a*b/denom\n",
    "    return(np.sqrt(vrnc))\n",
    "\n",
    "post_mean = beta_mean(posterior_alpha, posterior_beta)\n",
    "post_stdv = beta_stdv(posterior_alpha, posterior_beta)\n",
    "\n",
    "#Evaluate the postior over the grid\n",
    "posterior_of_xgrid = beta.pdf(xgrid, a = posterior_alpha, b = posterior_beta)\n",
    "#Plot the posterior\n",
    "plt.plot(xgrid, posterior_of_xgrid)\n",
    "plt.axvline(x=post_mean, color='orange', linestyle='--')\n",
    "plt.xlabel(r'$\\theta$')\n",
    "plt.ylabel(r'$\\pi(\\theta | x)$')\n",
    "plt.title(\"Posterior Distribtuion\")\n",
    "plt.show()\n",
    "\n",
    "print(\"The posterior mean is \"+ str(post_mean) + \n",
    "\" and the posterior standard deviation is \" + str(post_stdv ))"
   ]
  },
  {
   "cell_type": "markdown",
   "metadata": {
    "collapsed": true
   },
   "source": [
    "# German Tank Problem\n",
    "\n",
    "### Background\n",
    "In WWII, Germany manufactured their tanks with consectuive serial numbers. The Allied Powers sought to exploit this to help them determine how many tanks Germany possessed. The problem can be defined as estimating the maximum of a discrete uniform distribution based on a sample without replacement."
   ]
  },
  {
   "cell_type": "markdown",
   "metadata": {},
   "source": [
    "#### Discrete Uniform Distribution\n",
    "A random variable X is said to have the discrete uniform distribution if and only if the the probability mass function is given by\n",
    "$$\n",
    "P(X =x |n) = \n",
    "\\begin{cases}\n",
    "\\frac{1}{n} & \\textrm{for $x \\in \\{ a, a+1, \\ldots b \\} $ where $n = b - a +1$}\\\\\n",
    "0 & \\textrm{otherwise}\\\\\n",
    "\\end{cases}\n",
    "$$"
   ]
  },
  {
   "cell_type": "markdown",
   "metadata": {
    "collapsed": true
   },
   "source": [
    "### Notation\n",
    "$N$ is the maximum serial number  \n",
    "$M$ is the maximum serial number in the sample  \n",
    "$K$ is the number of tanks in the sample  \n",
    "$n,m,$ and $k$ are a possible or observed value for each of the respective variables\n"
   ]
  },
  {
   "cell_type": "markdown",
   "metadata": {},
   "source": [
    "### Bayesian view\n",
    "#### Prior\n",
    "Take prior distribution of $N$ given by\n",
    "$$\n",
    "P(N = n | k) = \n",
    "\\begin{cases}\n",
    "\\frac{1}{\\Omega - k} & \\mbox{for $n \\geq k$}\\\\\n",
    "0 & \\mbox{for $n < k$}\n",
    "\\end{cases}\n",
    "$$"
   ]
  },
  {
   "cell_type": "markdown",
   "metadata": {},
   "source": [
    "and the likelihood given by\n",
    "$$\n",
    "P(M = m|n,k) = \n",
    "\\begin{cases}\n",
    "\\frac{\\binom{m-1}{k-1}}{\\binom{n}{k}} & \\mbox{for $m \\leq k$}\\\\.\n",
    "0 & \\mbox{otherwise}\n",
    "\\end{cases}\n",
    "$$"
   ]
  },
  {
   "cell_type": "markdown",
   "metadata": {},
   "source": [
    "#### Posterior \n",
    "The posterior distrubtion for $N$ by observing $k > 1$ tanks with maximum serial number $M$ is given by\n",
    "$$\n",
    "P(N = n \\hspace{1mm}| \\hspace{1mm} M=m, K=k)= \n",
    "\\begin{cases}\n",
    "0 & \\textrm{if $n<k$}\\\\\n",
    "\\frac{k-1}{k} \n",
    "\\frac{\\binom{m-1}{k-1}}{\\binom{n}{k}} & \\textrm{if $n \\geq k$}\n",
    "\\end{cases}.\n",
    "$$"
   ]
  },
  {
   "cell_type": "markdown",
   "metadata": {},
   "source": [
    "#### Posterior mean  and standard deviation\n",
    "For $k>3$ the posterior mean $\\mu$ and standard deviation $\\sigma$ are given by\n",
    "$$\n",
    "\\begin{align}\n",
    "\\mu &= \\frac{(m-1)(k-1)}{k-2} \\\\\n",
    "\\sigma &= \\sqrt{\\frac{(m-1)(k-1)(m-k+1)}{(k-3)(k-2)^2}}\n",
    "\\end{align}\n",
    "$$"
   ]
  },
  {
   "cell_type": "markdown",
   "metadata": {},
   "source": [
    "## Example\n",
    "Suppose we observe 4 tanks with the highest serial number being 64. Below is a python function for computing the posterior distribution."
   ]
  },
  {
   "cell_type": "code",
   "execution_count": 4,
   "metadata": {
    "collapsed": true
   },
   "outputs": [],
   "source": [
    "from scipy.misc import comb\n",
    "\n",
    "def eval_point(n):\n",
    "    if n <m:\n",
    "        return(0)\n",
    "    else:\n",
    "        numer = (k-1)/k *comb(m-1,k-1)\n",
    "        denom = comb(n, k)\n",
    "        return(numer/denom)\n",
    "\n",
    "def posterior(n):\n",
    "    list_eval_points = []\n",
    "    for m in n:\n",
    "        eval = eval_point(m)\n",
    "        list_eval_points.append(eval)\n",
    "    out = np.array(list_eval_points)\n",
    "    return(out)    \n"
   ]
  },
  {
   "cell_type": "code",
   "execution_count": 6,
   "metadata": {
    "collapsed": false
   },
   "outputs": [],
   "source": [
    "#Define the parameters\n",
    "m = 64\n",
    "k = 4\n",
    "N = np.array(range(1,201))"
   ]
  },
  {
   "cell_type": "code",
   "execution_count": 7,
   "metadata": {
    "collapsed": false
   },
   "outputs": [
    {
     "data": {
      "image/png": "[encoded data removed]",
      "text/plain": [
       "<matplotlib.figure.Figure at 0x21076746da0>"
      ]
     },
     "metadata": {},
     "output_type": "display_data"
    }
   ],
   "source": [
    "fig, ax = plt.subplots()\n",
    "ax.stem(N, posterior(N))\n",
    "plt.xlabel(\"n\")\n",
    "plt.ylabel(\"P(N=n | M=m, K=k)\")\n",
    "plt.title(\"Posterior Distribution of N\")\n",
    "plt.show()"
   ]
  },
  {
   "cell_type": "markdown",
   "metadata": {},
   "source": [
    "## Results\n",
    "Comparison of German records to statistical estimates shows that the statistical estimates were much more accurate then the intelligence estimates.\n"
   ]
  },
  {
   "cell_type": "code",
   "execution_count": 8,
   "metadata": {
    "collapsed": true
   },
   "outputs": [],
   "source": [
    "import pymc3 as pm"
   ]
  },
  {
   "cell_type": "code",
   "execution_count": 41,
   "metadata": {
    "collapsed": false
   },
   "outputs": [
    {
     "name": "stderr",
     "output_type": "stream",
     "text": [
      "100%|███████████████████████████████| 100000/100000 [00:06<00:00, 14732.81it/s]\n"
     ]
    }
   ],
   "source": [
    "y = np.array([60])\n",
    "\n",
    "model = pm.Model()\n",
    "with model:\n",
    "    #Prior\n",
    "    N = pm.DiscreteUniform(\"N\", lower=y.max(), upper=1000)\n",
    "    #Likelihood\n",
    "    y_obs = pm.DiscreteUniform(\"y_obs\", lower=0, upper=N, observed=y)\n",
    "    \n",
    "    step = pm.Metropolis()\n",
    "    start = {\"N\": y.max()}\n",
    "    trace = pm.sample(100000, step, start, chain=1, njobs=1)"
   ]
  },
  {
   "cell_type": "code",
   "execution_count": 42,
   "metadata": {
    "collapsed": false
   },
   "outputs": [
    {
     "name": "stdout",
     "output_type": "stream",
     "text": [
      "\n",
      "N:\n",
      "\n",
      "  Mean             SD               MC Error         95% HPD interval\n",
      "  -------------------------------------------------------------------\n",
      "  \n",
      "  335.416          258.477          3.089            [60.000, 872.000]\n",
      "\n",
      "  Posterior quantiles:\n",
      "  2.5            25             50             75             97.5\n",
      "  |--------------|==============|==============|--------------|\n",
      "  \n",
      "  64.000         120.000        244.000        499.000        935.000\n",
      "\n"
     ]
    }
   ],
   "source": [
    "pm.summary(trace[10000:])"
   ]
  },
  {
   "cell_type": "code",
   "execution_count": 43,
   "metadata": {
    "collapsed": false
   },
   "outputs": [
    {
     "data": {
      "image/png": "[encoded data removed]",
      "text/plain": [
       "<matplotlib.figure.Figure at 0x2107e45aa20>"
      ]
     },
     "metadata": {},
     "output_type": "display_data"
    }
   ],
   "source": [
    "pm.traceplot(trace[10000:])\n",
    "plt.show()"
   ]
  }
 ],
 "metadata": {
  "kernelspec": {
   "display_name": "Python [default]",
   "language": "python",
   "name": "python3"
  },
  "language_info": {
   "codemirror_mode": {
    "name": "ipython",
    "version": 3
   },
   "file_extension": ".py",
   "mimetype": "text/x-python",
   "name": "python",
   "nbconvert_exporter": "python",
   "pygments_lexer": "ipython3",
   "version": "3.5.3"
  }
 },
 "nbformat": 4,
 "nbformat_minor": 2
}
